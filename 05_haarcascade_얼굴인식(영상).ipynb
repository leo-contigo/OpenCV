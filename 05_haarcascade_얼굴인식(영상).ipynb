{
 "cells": [
  {
   "cell_type": "markdown",
   "id": "1ca81839",
   "metadata": {},
   "source": [
    "# 05_haarcascade_얼굴인식(영상)"
   ]
  },
  {
   "cell_type": "code",
   "execution_count": 1,
   "id": "84933c3b",
   "metadata": {},
   "outputs": [],
   "source": [
    "import cv2\n",
    "import numpy as np"
   ]
  },
  {
   "cell_type": "code",
   "execution_count": 2,
   "id": "8a7268fd",
   "metadata": {},
   "outputs": [],
   "source": [
    "# 영상 파일 이름\n",
    "file_name = './opencv_data/video/obama_01.mp4'\n",
    "video = cv2.VideoCapture(file_name)"
   ]
  },
  {
   "cell_type": "code",
   "execution_count": 3,
   "id": "043b2c6d",
   "metadata": {},
   "outputs": [],
   "source": [
    "# CasCade classifier 생성\n",
    "# 얼굴, 눈 \n",
    "face_cascade = cv2.CascadeClassifier()\n",
    "eyes_cascade = cv2.CascadeClassifier()"
   ]
  },
  {
   "cell_type": "code",
   "execution_count": 4,
   "id": "ff8f1a90",
   "metadata": {},
   "outputs": [],
   "source": [
    "# 가중치 데이터가 들어있는 xml 파일명\n",
    "face_xml = './opencv_data/haarcascades/haarcascade_frontalface_alt.xml'\n",
    "eyes_xml = './opencv_data/haarcascades/haarcascade_eye_tree_eyeglasses.xml'"
   ]
  },
  {
   "cell_type": "code",
   "execution_count": 5,
   "id": "0da264c9",
   "metadata": {},
   "outputs": [
    {
     "data": {
      "text/plain": [
       "True"
      ]
     },
     "execution_count": 5,
     "metadata": {},
     "output_type": "execute_result"
    }
   ],
   "source": [
    "# 가중치 데이터를 학습모델에 적용.\n",
    "# 사전학습모델.\n",
    "face_cascade.load(cv2.samples.findFile(face_xml))\n",
    "eyes_cascade.load(cv2.samples.findFile(eyes_xml))"
   ]
  },
  {
   "cell_type": "code",
   "execution_count": 6,
   "id": "788bcb84",
   "metadata": {},
   "outputs": [],
   "source": [
    "# enter키를 누를 때까지 반복.\n",
    "# enter키 누르면 중단.\n",
    "\n",
    "# 반복재생\n",
    "while cv2.waitKey(33) < 0:\n",
    "    a1 = video.get(cv2.CAP_PROP_POS_FRAMES)\n",
    "    a2 = video.get(cv2.CAP_PROP_FRAME_COUNT)\n",
    "    \n",
    "    if a1 == a2 :\n",
    "        video.get(cv2.CAP_PROP_POS_FRAMES, 0)\n",
    "    \n",
    "    # 현재 프레임의 이미지를 추출.\n",
    "    ret, frame = video.read()\n",
    "    \n",
    "# ---------------------------------------------\n",
    "    # 인식률 향상을 이미지데이터 전처리\n",
    "    # 흑백으로 전환.\n",
    "    frame_gray = cv2.cvtColor(frame, cv2.COLOR_BGR2GRAY)\n",
    "    # 데이터 표준화.\n",
    "    frame_gray = cv2.equalizeHist(frame_gray)\n",
    "    \n",
    "    # 얼굴 인식.\n",
    "    # 결과는 인식된 부분의 이미지상의 좌측 상단 x, y 좌표와 가로, 세로 길이를 가져온다.\n",
    "    faces = face_cascade.detectMultiScale(frame_gray)    \n",
    "    \n",
    "    # 인식한 얼굴의 수 만큼 반복한다.\n",
    "    # 얼굴 하나에 대한 정보.\n",
    "    for x, y, w, h in faces :\n",
    "        # 인식한 얼굴에 ㅁ를 그려준다.\n",
    "        # 이미지, 좌측상단 x, 좌측상단 y, 우측하단 x, 우측하단 y, 색상, 두께.\n",
    "        frame = cv2.rectangle(frame, (x, y), (x + w, y + h), (0, 255, 0), 4)\n",
    "\n",
    "        # 전체 사진에서 얼굴을 찾고 얼굴 안에서 눈의 위치를 찾는다.\n",
    "\n",
    "        # 현재의 얼굴부분만 데이터로 가져온다.\n",
    "        faceR01 = frame_gray[y:y+h , x:x+h]\n",
    "        # 추출한 얼굴에서 눈을 가져온다.\n",
    "        eyes = eyes_cascade.detectMultiScale(faceR01)\n",
    "    #     print(eyes)\n",
    "    #     print('------------------------------------')\n",
    "\n",
    "        # 검출된 눈의 수 만큼 반복.\n",
    "        for x2, y2, w2, h2 in eyes :\n",
    "            # 눈의 중앙점\n",
    "            eye_x = x + x2 + w2 // 2\n",
    "            eye_y = y + y2 + h2 // 2\n",
    "\n",
    "            # 반경을 계산.\n",
    "            radius = int(round((w2 + h2) * 0.25))\n",
    "            # 원을 그린다.\n",
    "            # 그릴 이미지, 원의 중앙점 xy좌표, 반경, 색상, 두께.\n",
    "            frame = cv2.circle(frame, (eye_x, eye_y), radius, (255, 0, 0), 4)\n",
    "# ---------------------------------------------    \n",
    "\n",
    "    \n",
    "    cv2.imshow('VideoFrame', frame)\n",
    "    \n",
    "# 동영상 데이터를 제거.\n",
    "video.release()\n",
    "cv2.destroyAllWindows()"
   ]
  },
  {
   "cell_type": "code",
   "execution_count": null,
   "id": "8d9b6cde",
   "metadata": {},
   "outputs": [],
   "source": []
  }
 ],
 "metadata": {
  "kernelspec": {
   "display_name": "Python 3 (ipykernel)",
   "language": "python",
   "name": "python3"
  },
  "language_info": {
   "codemirror_mode": {
    "name": "ipython",
    "version": 3
   },
   "file_extension": ".py",
   "mimetype": "text/x-python",
   "name": "python",
   "nbconvert_exporter": "python",
   "pygments_lexer": "ipython3",
   "version": "3.9.12"
  }
 },
 "nbformat": 4,
 "nbformat_minor": 5
}
