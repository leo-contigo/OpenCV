{
 "cells": [
  {
   "cell_type": "code",
   "execution_count": 1,
   "id": "1e7a6859",
   "metadata": {},
   "outputs": [],
   "source": [
    "import cv2"
   ]
  },
  {
   "cell_type": "code",
   "execution_count": 2,
   "id": "de207608",
   "metadata": {},
   "outputs": [
    {
     "data": {
      "text/plain": [
       "< cv2.VideoCapture 000001B3CD2C2B50>"
      ]
     },
     "execution_count": 2,
     "metadata": {},
     "output_type": "execute_result"
    }
   ],
   "source": [
    "# 영상 파일을 설정.\n",
    "video = cv2.VideoCapture('./opencv_data/video/yolo_01.mp4')\n",
    "video"
   ]
  },
  {
   "cell_type": "code",
   "execution_count": 3,
   "id": "24aea197",
   "metadata": {},
   "outputs": [
    {
     "data": {
      "text/plain": [
       "0.0"
      ]
     },
     "execution_count": 3,
     "metadata": {},
     "output_type": "execute_result"
    }
   ],
   "source": [
    "# 현재 재생되고 있는 프레임의 위치\n",
    "video.get(cv2.CAP_PROP_POS_FRAMES)\n",
    "\n",
    "# 아직 재생 전 : 0.0"
   ]
  },
  {
   "cell_type": "code",
   "execution_count": 4,
   "id": "15c4f1d0",
   "metadata": {},
   "outputs": [
    {
     "data": {
      "text/plain": [
       "0.0"
      ]
     },
     "execution_count": 4,
     "metadata": {},
     "output_type": "execute_result"
    }
   ],
   "source": [
    "# 현재 재생되고 있는 시간\n",
    "video.get(cv2.CAP_PROP_POS_MSEC)"
   ]
  },
  {
   "cell_type": "code",
   "execution_count": 5,
   "id": "50dcf4bd",
   "metadata": {},
   "outputs": [
    {
     "data": {
      "text/plain": [
       "471.0"
      ]
     },
     "execution_count": 5,
     "metadata": {},
     "output_type": "execute_result"
    }
   ],
   "source": [
    "# 총 프레임 수\n",
    "video.get(cv2.CAP_PROP_FRAME_COUNT)\n",
    "\n",
    "# 총 471장의 이미지가 있다."
   ]
  },
  {
   "cell_type": "code",
   "execution_count": 6,
   "id": "35fac44c",
   "metadata": {},
   "outputs": [],
   "source": [
    "# 영상 재생은 영상에서 프레임을 하나씩 추출하여 그리는 작업.\n",
    "# 이에 반복한다.\n",
    "# 엔터키를 누르지 않는 동안 반복한다.\n",
    "# 엔터키 누르면 중단.\n",
    "\n",
    "while cv2.waitKey(33) < 0:\n",
    "    # 현재 재생위치\n",
    "    a1 = video.get(cv2.CAP_PROP_POS_FRAMES)\n",
    "    \n",
    "    # 전체 프레임수\n",
    "    a2 = video.get(cv2.CAP_PROP_FRAME_COUNT)\n",
    "    \n",
    "    # 현재 재생위치가 전체 프레임수와 동일(끝까지)하다면\n",
    "    # 현재 재생위치를 0으로 설정.(반복재생 구현)\n",
    "    if a1 == a2 :\n",
    "        video.get(cv2.CAP_PROP_POS_FRAMES, 0)\n",
    "    \n",
    "    # 현재 프레임의 이미지를 추출.\n",
    "    ret, frame = video.read()\n",
    "    # 그린다.\n",
    "    cv2.imshow('VideoFrame', frame)\n",
    "    \n",
    "# 동영상 데이터를 제거.\n",
    "video.release()\n",
    "cv2.destroyAllWindows()"
   ]
  },
  {
   "cell_type": "code",
   "execution_count": null,
   "id": "fe3356f4",
   "metadata": {},
   "outputs": [],
   "source": []
  }
 ],
 "metadata": {
  "kernelspec": {
   "display_name": "Python 3 (ipykernel)",
   "language": "python",
   "name": "python3"
  },
  "language_info": {
   "codemirror_mode": {
    "name": "ipython",
    "version": 3
   },
   "file_extension": ".py",
   "mimetype": "text/x-python",
   "name": "python",
   "nbconvert_exporter": "python",
   "pygments_lexer": "ipython3",
   "version": "3.9.12"
  }
 },
 "nbformat": 4,
 "nbformat_minor": 5
}
