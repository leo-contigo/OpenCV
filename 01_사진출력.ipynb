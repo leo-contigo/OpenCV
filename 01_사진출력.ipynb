{
 "cells": [
  {
   "cell_type": "markdown",
   "id": "586141ee",
   "metadata": {},
   "source": [
    "# opencv"
   ]
  },
  {
   "cell_type": "code",
   "execution_count": 1,
   "id": "1a479b0b",
   "metadata": {},
   "outputs": [
    {
     "name": "stdout",
     "output_type": "stream",
     "text": [
      "Collecting opencv-python\n",
      "  Downloading opencv_python-4.6.0.66-cp36-abi3-win_amd64.whl (35.6 MB)\n",
      "Requirement already satisfied: numpy>=1.19.3 in c:\\users\\pnu\\anaconda3\\lib\\site-packages (from opencv-python) (1.21.5)\n",
      "Installing collected packages: opencv-python\n",
      "Successfully installed opencv-python-4.6.0.66\n"
     ]
    }
   ],
   "source": [
    "# 라이브러리 설치\n",
    "! pip install opencv-python"
   ]
  },
  {
   "cell_type": "code",
   "execution_count": 5,
   "id": "5f294448",
   "metadata": {},
   "outputs": [],
   "source": [
    "import cv2\n",
    "# 이미지를 불러올 때 데이터의 사이즈를 줄여서 가져온다.\n",
    "# IMREAD_REDUCED_COLOR_숫자 : 1/숫자 사이즈로 줄여서 가져온다.\n",
    "src2 = cv2.imread('./opencv_data/image/yolo_01.jpg', cv2.IMREAD_REDUCED_COLOR_2)"
   ]
  },
  {
   "cell_type": "code",
   "execution_count": 3,
   "id": "9e3653b5",
   "metadata": {},
   "outputs": [],
   "source": [
    "# 이미지 읽기.\n",
    "src = cv2.imread('./opencv_data/image/yolo_01.jpg')"
   ]
  },
  {
   "cell_type": "code",
   "execution_count": 8,
   "id": "15bef802",
   "metadata": {},
   "outputs": [],
   "source": [
    "# 절대 크기 : 원하는 크기로 이미지 사이즈를 변경할 수 있음.\n",
    "# dsize : 원하는 (가로, 세로) 길이\n",
    "src3 = cv2.resize(src, dsize=(640, 640))\n",
    "\n",
    "# 상태 크기 : 비율을 지정하여 이미지 사이즈를 변경할 수 있음.\n",
    "# dsize=(0,0) 설정하지 않아도 필수로 입력해야하는 매개변수.\n",
    "\n",
    "# fx : 가로 크기 비율 (0 ~ 1)\n",
    "# fy : 세로 크기 비율 (0 ~ 1)\n",
    "src4 = cv2.resize(src, dsize=(0, 0), fx=0.3, fy=0.7)"
   ]
  },
  {
   "cell_type": "code",
   "execution_count": 9,
   "id": "96c30760",
   "metadata": {},
   "outputs": [],
   "source": [
    "# 이미지 그린다.\n",
    "# 첫번째 : 이미지가 나타날 창의 타이틀\n",
    "# 두번째 : ndarray 형태로 되어 있는 이미지 데이터\n",
    "# imshow('창 타이틀', 데이터 변수)\n",
    "\n",
    "cv2.imshow('src' , src)\n",
    "cv2.imshow('src2' , src2)\n",
    "cv2.imshow('src3' , src3)\n",
    "cv2.imshow('src4' , src4)\n",
    "\n",
    "# 이미지가 나타나게 하기 위해 키 입력 대기 함수를 통해 일시정지 함.\n",
    "cv2.waitKey()\n",
    "\n",
    "# 떠 있는 모든 창을 닫는다.\n",
    "cv2.destroyAllWindows()"
   ]
  }
 ],
 "metadata": {
  "kernelspec": {
   "display_name": "Python 3 (ipykernel)",
   "language": "python",
   "name": "python3"
  },
  "language_info": {
   "codemirror_mode": {
    "name": "ipython",
    "version": 3
   },
   "file_extension": ".py",
   "mimetype": "text/x-python",
   "name": "python",
   "nbconvert_exporter": "python",
   "pygments_lexer": "ipython3",
   "version": "3.9.12"
  }
 },
 "nbformat": 4,
 "nbformat_minor": 5
}
