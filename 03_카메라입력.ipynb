{
 "cells": [
  {
   "cell_type": "code",
   "execution_count": 1,
   "id": "8103756a",
   "metadata": {},
   "outputs": [],
   "source": [
    "import cv2"
   ]
  },
  {
   "cell_type": "code",
   "execution_count": 2,
   "id": "0e58acb0",
   "metadata": {},
   "outputs": [],
   "source": [
    "# 카메라에 연결.\n",
    "# 매개변수에는 카메라 장비 id 값을 넣어줌.\n",
    "# 노트북에 장착되어 있는 내장카메라 : 0\n",
    "# usb에 연결되어있는 카메라는 1 ~ n 까지 해당.\n",
    "\n",
    "camera = cv2.VideoCapture(0)\n",
    "# 코드에 오류가 없다고 잘되는건 아님.\n",
    "# 마지막까지 실행해봐야 잘되는지 알 수 있음."
   ]
  },
  {
   "cell_type": "code",
   "execution_count": 3,
   "id": "9f8f6d74",
   "metadata": {},
   "outputs": [
    {
     "data": {
      "text/plain": [
       "True"
      ]
     },
     "execution_count": 3,
     "metadata": {},
     "output_type": "execute_result"
    }
   ],
   "source": [
    "# 카메라 사용가능여부 확인하기.\n",
    "camera.isOpened()\n",
    "\n",
    "# True 나오면 연결 가능."
   ]
  },
  {
   "cell_type": "code",
   "execution_count": 4,
   "id": "94aa8dc5",
   "metadata": {},
   "outputs": [
    {
     "data": {
      "text/plain": [
       "True"
      ]
     },
     "execution_count": 4,
     "metadata": {},
     "output_type": "execute_result"
    }
   ],
   "source": [
    "# 촬영 사이즈 - 가로, 세로 사이즈 설정\n",
    "camera.set(cv2.CAP_PROP_FRAME_WIDTH, 640)\n",
    "camera.set(cv2.CAP_PROP_FRAME_HEIGHT, 640)"
   ]
  },
  {
   "cell_type": "code",
   "execution_count": 5,
   "id": "73a4c9d6",
   "metadata": {},
   "outputs": [],
   "source": [
    "# 촬영한다.\n",
    "\n",
    "while cv2.waitKey(33) < 0:\n",
    "    # 현재 촬영된 사진을 가져온다.\n",
    "    ret, frame = camera.read()\n",
    "    \n",
    "    # 좌우 반전.\n",
    "    frame = cv2.flip(frame, 1)\n",
    "    \n",
    "    # 그린다.\n",
    "    cv2.imshow('Camera', frame)\n",
    "    \n",
    "# 동영상 데이터를 제거.\n",
    "camera.release()\n",
    "cv2.destroyAllWindows()"
   ]
  },
  {
   "cell_type": "code",
   "execution_count": null,
   "id": "cbbe87ee",
   "metadata": {},
   "outputs": [],
   "source": []
  }
 ],
 "metadata": {
  "kernelspec": {
   "display_name": "Python 3 (ipykernel)",
   "language": "python",
   "name": "python3"
  },
  "language_info": {
   "codemirror_mode": {
    "name": "ipython",
    "version": 3
   },
   "file_extension": ".py",
   "mimetype": "text/x-python",
   "name": "python",
   "nbconvert_exporter": "python",
   "pygments_lexer": "ipython3",
   "version": "3.9.12"
  }
 },
 "nbformat": 4,
 "nbformat_minor": 5
}
