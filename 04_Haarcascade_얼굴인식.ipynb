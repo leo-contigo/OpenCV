{
 "cells": [
  {
   "cell_type": "markdown",
   "id": "949b1cb1",
   "metadata": {},
   "source": [
    "- HaarCasCade : opencv에서 제공하는 학습 모델에 적용할 수 있는 가중치가 저장된 파일.\n",
    "- 사전 학습 모델 자체를 제공하는 것이 아닌 모델을 구성하기 위한 값들이 저장되어 있는 파일."
   ]
  },
  {
   "cell_type": "code",
   "execution_count": 1,
   "id": "35a229c4",
   "metadata": {},
   "outputs": [],
   "source": [
    "import numpy as np\n",
    "import cv2"
   ]
  },
  {
   "cell_type": "code",
   "execution_count": 2,
   "id": "34efea88",
   "metadata": {},
   "outputs": [],
   "source": [
    "# 이미지 불러온다.\n",
    "# img = cv2.imread('./opencv_data/image/marathon_01.jpg')\n",
    "# 다른 이미지로 테스트\n",
    "img = cv2.imread('./opencv_data/image/marathon_02.jpg.jpg')"
   ]
  },
  {
   "cell_type": "code",
   "execution_count": 3,
   "id": "f45d14d8",
   "metadata": {},
   "outputs": [],
   "source": [
    "# CasCade classifier 생성\n",
    "# 얼굴, 눈 \n",
    "\n",
    "face_cascade = cv2.CascadeClassifier()\n",
    "eyes_cascade = cv2.CascadeClassifier()"
   ]
  },
  {
   "cell_type": "code",
   "execution_count": 4,
   "id": "ecaf9af8",
   "metadata": {},
   "outputs": [],
   "source": [
    "# 가중치 데이터가 들어있는 xml 파일명\n",
    "face_xml = './opencv_data/haarcascades/haarcascade_frontalface_alt.xml'\n",
    "eyes_xml = './opencv_data/haarcascades/haarcascade_eye_tree_eyeglasses.xml'"
   ]
  },
  {
   "cell_type": "code",
   "execution_count": 5,
   "id": "0c9bd623",
   "metadata": {},
   "outputs": [
    {
     "data": {
      "text/plain": [
       "True"
      ]
     },
     "execution_count": 5,
     "metadata": {},
     "output_type": "execute_result"
    }
   ],
   "source": [
    "# 가중치 데이터를 학습모델에 적용.\n",
    "# 사전학습모델 , 얼굴과 눈을 잘 검출할 수 있는\n",
    "face_cascade.load(cv2.samples.findFile(face_xml))\n",
    "eyes_cascade.load(cv2.samples.findFile(eyes_xml))"
   ]
  },
  {
   "cell_type": "code",
   "execution_count": 6,
   "id": "d92f7b94",
   "metadata": {},
   "outputs": [
    {
     "ename": "error",
     "evalue": "OpenCV(4.6.0) D:\\a\\opencv-python\\opencv-python\\opencv\\modules\\imgproc\\src\\color.cpp:182: error: (-215:Assertion failed) !_src.empty() in function 'cv::cvtColor'\n",
     "output_type": "error",
     "traceback": [
      "\u001b[1;31m---------------------------------------------------------------------------\u001b[0m",
      "\u001b[1;31merror\u001b[0m                                     Traceback (most recent call last)",
      "Input \u001b[1;32mIn [6]\u001b[0m, in \u001b[0;36m<cell line: 3>\u001b[1;34m()\u001b[0m\n\u001b[0;32m      1\u001b[0m \u001b[38;5;66;03m# 인식률 향상을 이미지데이터 전처리\u001b[39;00m\n\u001b[0;32m      2\u001b[0m \u001b[38;5;66;03m# 흑백으로 전환.\u001b[39;00m\n\u001b[1;32m----> 3\u001b[0m frame_gray \u001b[38;5;241m=\u001b[39m \u001b[43mcv2\u001b[49m\u001b[38;5;241;43m.\u001b[39;49m\u001b[43mcvtColor\u001b[49m\u001b[43m(\u001b[49m\u001b[43mimg\u001b[49m\u001b[43m,\u001b[49m\u001b[43m \u001b[49m\u001b[43mcv2\u001b[49m\u001b[38;5;241;43m.\u001b[39;49m\u001b[43mCOLOR_BGR2GRAY\u001b[49m\u001b[43m)\u001b[49m\n\u001b[0;32m      5\u001b[0m \u001b[38;5;66;03m# 데이터 표준화.\u001b[39;00m\n\u001b[0;32m      6\u001b[0m frame_gray \u001b[38;5;241m=\u001b[39m cv2\u001b[38;5;241m.\u001b[39mequalizeHist(frame_gray)\n",
      "\u001b[1;31merror\u001b[0m: OpenCV(4.6.0) D:\\a\\opencv-python\\opencv-python\\opencv\\modules\\imgproc\\src\\color.cpp:182: error: (-215:Assertion failed) !_src.empty() in function 'cv::cvtColor'\n"
     ]
    }
   ],
   "source": [
    "# 인식률 향상을 이미지데이터 전처리\n",
    "# 흑백으로 전환.\n",
    "frame_gray = cv2.cvtColor(img, cv2.COLOR_BGR2GRAY)\n",
    "\n",
    "# 데이터 표준화.\n",
    "frame_gray = cv2.equalizeHist(frame_gray)"
   ]
  },
  {
   "cell_type": "code",
   "execution_count": null,
   "id": "8de7b947",
   "metadata": {},
   "outputs": [],
   "source": [
    "# 얼굴 인식.\n",
    "\n",
    "# 결과는 인식된 부분의 이미지상의 좌측 상단 x, y 좌표와 가로, 세로 길이를 가져온다.\n",
    "faces = face_cascade.detectMultiScale(frame_gray)\n",
    "faces"
   ]
  },
  {
   "cell_type": "code",
   "execution_count": null,
   "id": "5a7fdb30",
   "metadata": {},
   "outputs": [],
   "source": [
    "# 인식한 얼굴의 수 만큼 반복한다.\n",
    "# 얼굴 하나에 대한 정보.\n",
    "for x, y, w, h in faces :\n",
    "    # 인식한 얼굴에 ㅁ를 그려준다.\n",
    "    # 이미지, 좌측상단 x, 좌측상단 y, 우측하단 x, 우측하단 y, 색상, 두께.\n",
    "    frame = cv2.rectangle(img, (x, y), (x + w, y + h), (0, 255, 0), 4)\n",
    "    \n",
    "    # 전체 사진에서 얼굴을 찾고 얼굴 안에서 눈의 위치를 찾는다.\n",
    "    \n",
    "    # 현재의 얼굴부분만 데이터로 가져온다.\n",
    "    faceR01 = frame_gray[y:y+h , x:x+h]\n",
    "    # 추출한 얼굴에서 눈을 가져온다.\n",
    "    eyes = eyes_cascade.detectMultiScale(faceR01)\n",
    "#     print(eyes)\n",
    "#     print('------------------------------------')\n",
    "    \n",
    "    # 검출된 눈의 수 만큼 반복.\n",
    "    for x2, y2, w2, h2 in eyes :\n",
    "        # 눈의 중앙점\n",
    "        eye_x = x + x2 + w2 // 2\n",
    "        eye_y = y + y2 + h2 // 2\n",
    "        \n",
    "        # 반경을 계산.\n",
    "        radius = int(round((w2 + h2) * 0.25))\n",
    "        # 원을 그린다.\n",
    "        # 그릴 이미지, 원의 중앙점 xy좌표, 반경, 색상, 두께\n",
    "        frame = cv2.circle(frame, (eye_x, eye_y), radius, (255, 0, 0), 4)\n",
    "    \n",
    "\n",
    "\n",
    "\n",
    "# 이미지를 표시.\n",
    "cv2.imshow('Face Detection', frame)\n",
    "cv2.waitKey()\n",
    "cv2.destroyAllWindows()"
   ]
  },
  {
   "cell_type": "code",
   "execution_count": null,
   "id": "44d11087",
   "metadata": {},
   "outputs": [],
   "source": []
  },
  {
   "cell_type": "code",
   "execution_count": null,
   "id": "8e3001a0",
   "metadata": {},
   "outputs": [],
   "source": []
  }
 ],
 "metadata": {
  "kernelspec": {
   "display_name": "Python 3 (ipykernel)",
   "language": "python",
   "name": "python3"
  },
  "language_info": {
   "codemirror_mode": {
    "name": "ipython",
    "version": 3
   },
   "file_extension": ".py",
   "mimetype": "text/x-python",
   "name": "python",
   "nbconvert_exporter": "python",
   "pygments_lexer": "ipython3",
   "version": "3.9.12"
  }
 },
 "nbformat": 4,
 "nbformat_minor": 5
}
